{
  "cells": [
    {
      "cell_type": "markdown",
      "id": "418786e5-3178-4716-83bc-5067d78b2835",
      "metadata": {
        "id": "418786e5-3178-4716-83bc-5067d78b2835"
      },
      "source": [
        "<i>Written by: Ahsan Khan, on behalf of Alberta Machine Intelligence Institute for the Al Pathways Partnership supported by Prairies Economic Development Canada</i>"
      ]
    },
    {
      "cell_type": "markdown",
      "id": "2febcb26-3ca8-4887-8399-035a91609f5b",
      "metadata": {
        "id": "2febcb26-3ca8-4887-8399-035a91609f5b"
      },
      "source": [
        "# Lab 1: K-NearestNeighbour (KNN)"
      ]
    },
    {
      "cell_type": "markdown",
      "id": "81d260ce-c38d-4bfc-b4e8-4b5a18fce51a",
      "metadata": {
        "id": "81d260ce-c38d-4bfc-b4e8-4b5a18fce51a"
      },
      "source": [
        "For the first lab activity we will be using a dataset which contains the chemical compositions of different wines. More information about the dataset can be found here: https://archive.ics.uci.edu/ml/datasets/wine. This dataset is built-in the scikit-learn library and we can load it directly from there. Recall that KNNs are used for classification predictions based on the 'closeness' of our input to other datapoints. KNNs use distance metrics such as euclidean, manhattan, jaccard, etc; with euclidean being the most widely used and the default metric in the scikit-learn library."
      ]
    },
    {
      "cell_type": "markdown",
      "id": "334cb8fc-8e88-46ad-9cea-4890f451b567",
      "metadata": {
        "id": "334cb8fc-8e88-46ad-9cea-4890f451b567"
      },
      "source": [
        "Familiarize yourself with these imports as you will be using them a lot in your ML journey."
      ]
    },
    {
      "cell_type": "markdown",
      "id": "61fea006-f65a-4e3a-845d-a5b6a65e4c51",
      "metadata": {
        "id": "61fea006-f65a-4e3a-845d-a5b6a65e4c51",
        "tags": []
      },
      "source": [
        "#### Loading libraries"
      ]
    },
    {
      "cell_type": "code",
      "execution_count": null,
      "id": "cd8668b2-b79e-4975-bf12-baa57acee935",
      "metadata": {
        "id": "cd8668b2-b79e-4975-bf12-baa57acee935"
      },
      "outputs": [],
      "source": [
        "#Crucial data processing and analysis libraries\n",
        "import numpy as np\n",
        "import pandas as pd\n",
        "import matplotlib.pyplot as plt\n",
        "\n",
        "#Loading the modules required to build and evaluate a KNN model\n",
        "from sklearn.neighbors import KNeighborsClassifier\n",
        "from sklearn.model_selection import train_test_split\n",
        "from sklearn.preprocessing import StandardScaler\n",
        "from sklearn.metrics import accuracy_score\n",
        "from sklearn.metrics import classification_report\n",
        "\n",
        "#Loading the wine dataset from sklearn\n",
        "from sklearn.datasets import load_wine"
      ]
    },
    {
      "cell_type": "markdown",
      "id": "14763800-0646-4f7e-9d59-284868259dd7",
      "metadata": {
        "id": "14763800-0646-4f7e-9d59-284868259dd7"
      },
      "source": [
        "#### Understanding the dataset"
      ]
    },
    {
      "cell_type": "code",
      "execution_count": null,
      "id": "ddd80d5f-d6b5-4d24-9896-475528443d21",
      "metadata": {
        "id": "ddd80d5f-d6b5-4d24-9896-475528443d21"
      },
      "outputs": [],
      "source": [
        "#loading data\n",
        "wine = load_wine()"
      ]
    },
    {
      "cell_type": "code",
      "execution_count": null,
      "id": "336fba2c-d72c-4918-bcb7-f37fe13f5f2b",
      "metadata": {
        "id": "336fba2c-d72c-4918-bcb7-f37fe13f5f2b",
        "outputId": "e51e7a46-a004-48c5-eb54-5a985335d9b2",
        "colab": {
          "base_uri": "https://localhost:8080/"
        }
      },
      "outputs": [
        {
          "output_type": "execute_result",
          "data": {
            "text/plain": [
              "array([[1.423e+01, 1.710e+00, 2.430e+00, ..., 1.040e+00, 3.920e+00,\n",
              "        1.065e+03],\n",
              "       [1.320e+01, 1.780e+00, 2.140e+00, ..., 1.050e+00, 3.400e+00,\n",
              "        1.050e+03],\n",
              "       [1.316e+01, 2.360e+00, 2.670e+00, ..., 1.030e+00, 3.170e+00,\n",
              "        1.185e+03],\n",
              "       ...,\n",
              "       [1.327e+01, 4.280e+00, 2.260e+00, ..., 5.900e-01, 1.560e+00,\n",
              "        8.350e+02],\n",
              "       [1.317e+01, 2.590e+00, 2.370e+00, ..., 6.000e-01, 1.620e+00,\n",
              "        8.400e+02],\n",
              "       [1.413e+01, 4.100e+00, 2.740e+00, ..., 6.100e-01, 1.600e+00,\n",
              "        5.600e+02]])"
            ]
          },
          "metadata": {},
          "execution_count": 59
        }
      ],
      "source": [
        "# There are three key parts to the dataset we care about\n",
        "#(1) The features(X)\n",
        "X = wine.data\n",
        "X"
      ]
    },
    {
      "cell_type": "code",
      "execution_count": null,
      "id": "8595abb7-bd12-4d81-8e23-24d7ce66b32c",
      "metadata": {
        "id": "8595abb7-bd12-4d81-8e23-24d7ce66b32c",
        "outputId": "43b776c3-7032-4d37-b33d-40919054fa6f",
        "colab": {
          "base_uri": "https://localhost:8080/"
        }
      },
      "outputs": [
        {
          "output_type": "execute_result",
          "data": {
            "text/plain": [
              "array([0, 0, 0, 0, 0, 0, 0, 0, 0, 0, 0, 0, 0, 0, 0, 0, 0, 0, 0, 0, 0, 0,\n",
              "       0, 0, 0, 0, 0, 0, 0, 0, 0, 0, 0, 0, 0, 0, 0, 0, 0, 0, 0, 0, 0, 0,\n",
              "       0, 0, 0, 0, 0, 0, 0, 0, 0, 0, 0, 0, 0, 0, 0, 1, 1, 1, 1, 1, 1, 1,\n",
              "       1, 1, 1, 1, 1, 1, 1, 1, 1, 1, 1, 1, 1, 1, 1, 1, 1, 1, 1, 1, 1, 1,\n",
              "       1, 1, 1, 1, 1, 1, 1, 1, 1, 1, 1, 1, 1, 1, 1, 1, 1, 1, 1, 1, 1, 1,\n",
              "       1, 1, 1, 1, 1, 1, 1, 1, 1, 1, 1, 1, 1, 1, 1, 1, 1, 1, 1, 1, 2, 2,\n",
              "       2, 2, 2, 2, 2, 2, 2, 2, 2, 2, 2, 2, 2, 2, 2, 2, 2, 2, 2, 2, 2, 2,\n",
              "       2, 2, 2, 2, 2, 2, 2, 2, 2, 2, 2, 2, 2, 2, 2, 2, 2, 2, 2, 2, 2, 2,\n",
              "       2, 2])"
            ]
          },
          "metadata": {},
          "execution_count": 60
        }
      ],
      "source": [
        "#(2) The target classes(y). The wines are placed into three classes.\n",
        "y = wine.target\n",
        "y"
      ]
    },
    {
      "cell_type": "code",
      "execution_count": null,
      "id": "f6abd45c-55b9-468a-812d-9fb77816e95e",
      "metadata": {
        "id": "f6abd45c-55b9-468a-812d-9fb77816e95e",
        "outputId": "cb622f3f-d3a3-4ec8-eb13-ebbae39e2578",
        "colab": {
          "base_uri": "https://localhost:8080/"
        }
      },
      "outputs": [
        {
          "output_type": "execute_result",
          "data": {
            "text/plain": [
              "['alcohol',\n",
              " 'malic_acid',\n",
              " 'ash',\n",
              " 'alcalinity_of_ash',\n",
              " 'magnesium',\n",
              " 'total_phenols',\n",
              " 'flavanoids',\n",
              " 'nonflavanoid_phenols',\n",
              " 'proanthocyanins',\n",
              " 'color_intensity',\n",
              " 'hue',\n",
              " 'od280/od315_of_diluted_wines',\n",
              " 'proline']"
            ]
          },
          "metadata": {},
          "execution_count": 61
        }
      ],
      "source": [
        "#(3) The feature names\n",
        "wine.feature_names"
      ]
    },
    {
      "cell_type": "markdown",
      "id": "2f86c647-b3bc-44d1-b0d3-89d628888e69",
      "metadata": {
        "id": "2f86c647-b3bc-44d1-b0d3-89d628888e69"
      },
      "source": [
        "##### This is how the data looks like in a pandas dataframe"
      ]
    },
    {
      "cell_type": "code",
      "execution_count": null,
      "id": "94fa7eac-67d3-4edf-9379-daa86a2b8971",
      "metadata": {
        "id": "94fa7eac-67d3-4edf-9379-daa86a2b8971",
        "outputId": "d18b28d8-2688-482f-ca25-e948d8396586",
        "colab": {
          "base_uri": "https://localhost:8080/",
          "height": 244
        }
      },
      "outputs": [
        {
          "output_type": "stream",
          "name": "stdout",
          "text": [
            "Number of rows in the data: 178\n"
          ]
        },
        {
          "output_type": "execute_result",
          "data": {
            "text/plain": [
              "   alcohol  malic_acid   ash  alcalinity_of_ash  magnesium  total_phenols  \\\n",
              "0    14.23        1.71  2.43               15.6      127.0           2.80   \n",
              "1    13.20        1.78  2.14               11.2      100.0           2.65   \n",
              "2    13.16        2.36  2.67               18.6      101.0           2.80   \n",
              "3    14.37        1.95  2.50               16.8      113.0           3.85   \n",
              "4    13.24        2.59  2.87               21.0      118.0           2.80   \n",
              "\n",
              "   flavanoids  nonflavanoid_phenols  proanthocyanins  color_intensity   hue  \\\n",
              "0        3.06                  0.28             2.29             5.64  1.04   \n",
              "1        2.76                  0.26             1.28             4.38  1.05   \n",
              "2        3.24                  0.30             2.81             5.68  1.03   \n",
              "3        3.49                  0.24             2.18             7.80  0.86   \n",
              "4        2.69                  0.39             1.82             4.32  1.04   \n",
              "\n",
              "   od280/od315_of_diluted_wines  proline  class  \n",
              "0                          3.92   1065.0      0  \n",
              "1                          3.40   1050.0      0  \n",
              "2                          3.17   1185.0      0  \n",
              "3                          3.45   1480.0      0  \n",
              "4                          2.93    735.0      0  "
            ],
            "text/html": [
              "\n",
              "  <div id=\"df-d2552800-ad4d-4dfb-a260-f7844aab6efa\" class=\"colab-df-container\">\n",
              "    <div>\n",
              "<style scoped>\n",
              "    .dataframe tbody tr th:only-of-type {\n",
              "        vertical-align: middle;\n",
              "    }\n",
              "\n",
              "    .dataframe tbody tr th {\n",
              "        vertical-align: top;\n",
              "    }\n",
              "\n",
              "    .dataframe thead th {\n",
              "        text-align: right;\n",
              "    }\n",
              "</style>\n",
              "<table border=\"1\" class=\"dataframe\">\n",
              "  <thead>\n",
              "    <tr style=\"text-align: right;\">\n",
              "      <th></th>\n",
              "      <th>alcohol</th>\n",
              "      <th>malic_acid</th>\n",
              "      <th>ash</th>\n",
              "      <th>alcalinity_of_ash</th>\n",
              "      <th>magnesium</th>\n",
              "      <th>total_phenols</th>\n",
              "      <th>flavanoids</th>\n",
              "      <th>nonflavanoid_phenols</th>\n",
              "      <th>proanthocyanins</th>\n",
              "      <th>color_intensity</th>\n",
              "      <th>hue</th>\n",
              "      <th>od280/od315_of_diluted_wines</th>\n",
              "      <th>proline</th>\n",
              "      <th>class</th>\n",
              "    </tr>\n",
              "  </thead>\n",
              "  <tbody>\n",
              "    <tr>\n",
              "      <th>0</th>\n",
              "      <td>14.23</td>\n",
              "      <td>1.71</td>\n",
              "      <td>2.43</td>\n",
              "      <td>15.6</td>\n",
              "      <td>127.0</td>\n",
              "      <td>2.80</td>\n",
              "      <td>3.06</td>\n",
              "      <td>0.28</td>\n",
              "      <td>2.29</td>\n",
              "      <td>5.64</td>\n",
              "      <td>1.04</td>\n",
              "      <td>3.92</td>\n",
              "      <td>1065.0</td>\n",
              "      <td>0</td>\n",
              "    </tr>\n",
              "    <tr>\n",
              "      <th>1</th>\n",
              "      <td>13.20</td>\n",
              "      <td>1.78</td>\n",
              "      <td>2.14</td>\n",
              "      <td>11.2</td>\n",
              "      <td>100.0</td>\n",
              "      <td>2.65</td>\n",
              "      <td>2.76</td>\n",
              "      <td>0.26</td>\n",
              "      <td>1.28</td>\n",
              "      <td>4.38</td>\n",
              "      <td>1.05</td>\n",
              "      <td>3.40</td>\n",
              "      <td>1050.0</td>\n",
              "      <td>0</td>\n",
              "    </tr>\n",
              "    <tr>\n",
              "      <th>2</th>\n",
              "      <td>13.16</td>\n",
              "      <td>2.36</td>\n",
              "      <td>2.67</td>\n",
              "      <td>18.6</td>\n",
              "      <td>101.0</td>\n",
              "      <td>2.80</td>\n",
              "      <td>3.24</td>\n",
              "      <td>0.30</td>\n",
              "      <td>2.81</td>\n",
              "      <td>5.68</td>\n",
              "      <td>1.03</td>\n",
              "      <td>3.17</td>\n",
              "      <td>1185.0</td>\n",
              "      <td>0</td>\n",
              "    </tr>\n",
              "    <tr>\n",
              "      <th>3</th>\n",
              "      <td>14.37</td>\n",
              "      <td>1.95</td>\n",
              "      <td>2.50</td>\n",
              "      <td>16.8</td>\n",
              "      <td>113.0</td>\n",
              "      <td>3.85</td>\n",
              "      <td>3.49</td>\n",
              "      <td>0.24</td>\n",
              "      <td>2.18</td>\n",
              "      <td>7.80</td>\n",
              "      <td>0.86</td>\n",
              "      <td>3.45</td>\n",
              "      <td>1480.0</td>\n",
              "      <td>0</td>\n",
              "    </tr>\n",
              "    <tr>\n",
              "      <th>4</th>\n",
              "      <td>13.24</td>\n",
              "      <td>2.59</td>\n",
              "      <td>2.87</td>\n",
              "      <td>21.0</td>\n",
              "      <td>118.0</td>\n",
              "      <td>2.80</td>\n",
              "      <td>2.69</td>\n",
              "      <td>0.39</td>\n",
              "      <td>1.82</td>\n",
              "      <td>4.32</td>\n",
              "      <td>1.04</td>\n",
              "      <td>2.93</td>\n",
              "      <td>735.0</td>\n",
              "      <td>0</td>\n",
              "    </tr>\n",
              "  </tbody>\n",
              "</table>\n",
              "</div>\n",
              "    <div class=\"colab-df-buttons\">\n",
              "\n",
              "  <div class=\"colab-df-container\">\n",
              "    <button class=\"colab-df-convert\" onclick=\"convertToInteractive('df-d2552800-ad4d-4dfb-a260-f7844aab6efa')\"\n",
              "            title=\"Convert this dataframe to an interactive table.\"\n",
              "            style=\"display:none;\">\n",
              "\n",
              "  <svg xmlns=\"http://www.w3.org/2000/svg\" height=\"24px\" viewBox=\"0 -960 960 960\">\n",
              "    <path d=\"M120-120v-720h720v720H120Zm60-500h600v-160H180v160Zm220 220h160v-160H400v160Zm0 220h160v-160H400v160ZM180-400h160v-160H180v160Zm440 0h160v-160H620v160ZM180-180h160v-160H180v160Zm440 0h160v-160H620v160Z\"/>\n",
              "  </svg>\n",
              "    </button>\n",
              "\n",
              "  <style>\n",
              "    .colab-df-container {\n",
              "      display:flex;\n",
              "      gap: 12px;\n",
              "    }\n",
              "\n",
              "    .colab-df-convert {\n",
              "      background-color: #E8F0FE;\n",
              "      border: none;\n",
              "      border-radius: 50%;\n",
              "      cursor: pointer;\n",
              "      display: none;\n",
              "      fill: #1967D2;\n",
              "      height: 32px;\n",
              "      padding: 0 0 0 0;\n",
              "      width: 32px;\n",
              "    }\n",
              "\n",
              "    .colab-df-convert:hover {\n",
              "      background-color: #E2EBFA;\n",
              "      box-shadow: 0px 1px 2px rgba(60, 64, 67, 0.3), 0px 1px 3px 1px rgba(60, 64, 67, 0.15);\n",
              "      fill: #174EA6;\n",
              "    }\n",
              "\n",
              "    .colab-df-buttons div {\n",
              "      margin-bottom: 4px;\n",
              "    }\n",
              "\n",
              "    [theme=dark] .colab-df-convert {\n",
              "      background-color: #3B4455;\n",
              "      fill: #D2E3FC;\n",
              "    }\n",
              "\n",
              "    [theme=dark] .colab-df-convert:hover {\n",
              "      background-color: #434B5C;\n",
              "      box-shadow: 0px 1px 3px 1px rgba(0, 0, 0, 0.15);\n",
              "      filter: drop-shadow(0px 1px 2px rgba(0, 0, 0, 0.3));\n",
              "      fill: #FFFFFF;\n",
              "    }\n",
              "  </style>\n",
              "\n",
              "    <script>\n",
              "      const buttonEl =\n",
              "        document.querySelector('#df-d2552800-ad4d-4dfb-a260-f7844aab6efa button.colab-df-convert');\n",
              "      buttonEl.style.display =\n",
              "        google.colab.kernel.accessAllowed ? 'block' : 'none';\n",
              "\n",
              "      async function convertToInteractive(key) {\n",
              "        const element = document.querySelector('#df-d2552800-ad4d-4dfb-a260-f7844aab6efa');\n",
              "        const dataTable =\n",
              "          await google.colab.kernel.invokeFunction('convertToInteractive',\n",
              "                                                    [key], {});\n",
              "        if (!dataTable) return;\n",
              "\n",
              "        const docLinkHtml = 'Like what you see? Visit the ' +\n",
              "          '<a target=\"_blank\" href=https://colab.research.google.com/notebooks/data_table.ipynb>data table notebook</a>'\n",
              "          + ' to learn more about interactive tables.';\n",
              "        element.innerHTML = '';\n",
              "        dataTable['output_type'] = 'display_data';\n",
              "        await google.colab.output.renderOutput(dataTable, element);\n",
              "        const docLink = document.createElement('div');\n",
              "        docLink.innerHTML = docLinkHtml;\n",
              "        element.appendChild(docLink);\n",
              "      }\n",
              "    </script>\n",
              "  </div>\n",
              "\n",
              "\n",
              "<div id=\"df-5f7c54ac-58b7-46f9-ae4e-2cf0667bcf2c\">\n",
              "  <button class=\"colab-df-quickchart\" onclick=\"quickchart('df-5f7c54ac-58b7-46f9-ae4e-2cf0667bcf2c')\"\n",
              "            title=\"Suggest charts.\"\n",
              "            style=\"display:none;\">\n",
              "\n",
              "<svg xmlns=\"http://www.w3.org/2000/svg\" height=\"24px\"viewBox=\"0 0 24 24\"\n",
              "     width=\"24px\">\n",
              "    <g>\n",
              "        <path d=\"M19 3H5c-1.1 0-2 .9-2 2v14c0 1.1.9 2 2 2h14c1.1 0 2-.9 2-2V5c0-1.1-.9-2-2-2zM9 17H7v-7h2v7zm4 0h-2V7h2v10zm4 0h-2v-4h2v4z\"/>\n",
              "    </g>\n",
              "</svg>\n",
              "  </button>\n",
              "\n",
              "<style>\n",
              "  .colab-df-quickchart {\n",
              "      --bg-color: #E8F0FE;\n",
              "      --fill-color: #1967D2;\n",
              "      --hover-bg-color: #E2EBFA;\n",
              "      --hover-fill-color: #174EA6;\n",
              "      --disabled-fill-color: #AAA;\n",
              "      --disabled-bg-color: #DDD;\n",
              "  }\n",
              "\n",
              "  [theme=dark] .colab-df-quickchart {\n",
              "      --bg-color: #3B4455;\n",
              "      --fill-color: #D2E3FC;\n",
              "      --hover-bg-color: #434B5C;\n",
              "      --hover-fill-color: #FFFFFF;\n",
              "      --disabled-bg-color: #3B4455;\n",
              "      --disabled-fill-color: #666;\n",
              "  }\n",
              "\n",
              "  .colab-df-quickchart {\n",
              "    background-color: var(--bg-color);\n",
              "    border: none;\n",
              "    border-radius: 50%;\n",
              "    cursor: pointer;\n",
              "    display: none;\n",
              "    fill: var(--fill-color);\n",
              "    height: 32px;\n",
              "    padding: 0;\n",
              "    width: 32px;\n",
              "  }\n",
              "\n",
              "  .colab-df-quickchart:hover {\n",
              "    background-color: var(--hover-bg-color);\n",
              "    box-shadow: 0 1px 2px rgba(60, 64, 67, 0.3), 0 1px 3px 1px rgba(60, 64, 67, 0.15);\n",
              "    fill: var(--button-hover-fill-color);\n",
              "  }\n",
              "\n",
              "  .colab-df-quickchart-complete:disabled,\n",
              "  .colab-df-quickchart-complete:disabled:hover {\n",
              "    background-color: var(--disabled-bg-color);\n",
              "    fill: var(--disabled-fill-color);\n",
              "    box-shadow: none;\n",
              "  }\n",
              "\n",
              "  .colab-df-spinner {\n",
              "    border: 2px solid var(--fill-color);\n",
              "    border-color: transparent;\n",
              "    border-bottom-color: var(--fill-color);\n",
              "    animation:\n",
              "      spin 1s steps(1) infinite;\n",
              "  }\n",
              "\n",
              "  @keyframes spin {\n",
              "    0% {\n",
              "      border-color: transparent;\n",
              "      border-bottom-color: var(--fill-color);\n",
              "      border-left-color: var(--fill-color);\n",
              "    }\n",
              "    20% {\n",
              "      border-color: transparent;\n",
              "      border-left-color: var(--fill-color);\n",
              "      border-top-color: var(--fill-color);\n",
              "    }\n",
              "    30% {\n",
              "      border-color: transparent;\n",
              "      border-left-color: var(--fill-color);\n",
              "      border-top-color: var(--fill-color);\n",
              "      border-right-color: var(--fill-color);\n",
              "    }\n",
              "    40% {\n",
              "      border-color: transparent;\n",
              "      border-right-color: var(--fill-color);\n",
              "      border-top-color: var(--fill-color);\n",
              "    }\n",
              "    60% {\n",
              "      border-color: transparent;\n",
              "      border-right-color: var(--fill-color);\n",
              "    }\n",
              "    80% {\n",
              "      border-color: transparent;\n",
              "      border-right-color: var(--fill-color);\n",
              "      border-bottom-color: var(--fill-color);\n",
              "    }\n",
              "    90% {\n",
              "      border-color: transparent;\n",
              "      border-bottom-color: var(--fill-color);\n",
              "    }\n",
              "  }\n",
              "</style>\n",
              "\n",
              "  <script>\n",
              "    async function quickchart(key) {\n",
              "      const quickchartButtonEl =\n",
              "        document.querySelector('#' + key + ' button');\n",
              "      quickchartButtonEl.disabled = true;  // To prevent multiple clicks.\n",
              "      quickchartButtonEl.classList.add('colab-df-spinner');\n",
              "      try {\n",
              "        const charts = await google.colab.kernel.invokeFunction(\n",
              "            'suggestCharts', [key], {});\n",
              "      } catch (error) {\n",
              "        console.error('Error during call to suggestCharts:', error);\n",
              "      }\n",
              "      quickchartButtonEl.classList.remove('colab-df-spinner');\n",
              "      quickchartButtonEl.classList.add('colab-df-quickchart-complete');\n",
              "    }\n",
              "    (() => {\n",
              "      let quickchartButtonEl =\n",
              "        document.querySelector('#df-5f7c54ac-58b7-46f9-ae4e-2cf0667bcf2c button');\n",
              "      quickchartButtonEl.style.display =\n",
              "        google.colab.kernel.accessAllowed ? 'block' : 'none';\n",
              "    })();\n",
              "  </script>\n",
              "</div>\n",
              "    </div>\n",
              "  </div>\n"
            ]
          },
          "metadata": {},
          "execution_count": 62
        }
      ],
      "source": [
        "df = pd.DataFrame(X, columns=wine['feature_names'])\n",
        "df['class'] = wine.target\n",
        "\n",
        "\n",
        "print(\"Number of rows in the data: \" + str(df.shape[0]))\n",
        "df.head()"
      ]
    },
    {
      "cell_type": "markdown",
      "id": "388a5013-7de1-4f0a-ad04-3ef11458a47d",
      "metadata": {
        "id": "388a5013-7de1-4f0a-ad04-3ef11458a47d"
      },
      "source": [
        "##### Observing the statistics of our data"
      ]
    },
    {
      "cell_type": "code",
      "execution_count": null,
      "id": "f7bd83fd-36de-4ced-b71f-a75b5fa9d856",
      "metadata": {
        "id": "f7bd83fd-36de-4ced-b71f-a75b5fa9d856",
        "outputId": "b24fc7db-560e-4993-a88f-9216646ef4b0",
        "colab": {
          "base_uri": "https://localhost:8080/",
          "height": 320
        }
      },
      "outputs": [
        {
          "output_type": "execute_result",
          "data": {
            "text/plain": [
              "          alcohol  malic_acid         ash  alcalinity_of_ash   magnesium  \\\n",
              "count  178.000000  178.000000  178.000000         178.000000  178.000000   \n",
              "mean    13.000618    2.336348    2.366517          19.494944   99.741573   \n",
              "std      0.811827    1.117146    0.274344           3.339564   14.282484   \n",
              "min     11.030000    0.740000    1.360000          10.600000   70.000000   \n",
              "25%     12.362500    1.602500    2.210000          17.200000   88.000000   \n",
              "50%     13.050000    1.865000    2.360000          19.500000   98.000000   \n",
              "75%     13.677500    3.082500    2.557500          21.500000  107.000000   \n",
              "max     14.830000    5.800000    3.230000          30.000000  162.000000   \n",
              "\n",
              "       total_phenols  flavanoids  nonflavanoid_phenols  proanthocyanins  \\\n",
              "count     178.000000  178.000000            178.000000       178.000000   \n",
              "mean        2.295112    2.029270              0.361854         1.590899   \n",
              "std         0.625851    0.998859              0.124453         0.572359   \n",
              "min         0.980000    0.340000              0.130000         0.410000   \n",
              "25%         1.742500    1.205000              0.270000         1.250000   \n",
              "50%         2.355000    2.135000              0.340000         1.555000   \n",
              "75%         2.800000    2.875000              0.437500         1.950000   \n",
              "max         3.880000    5.080000              0.660000         3.580000   \n",
              "\n",
              "       color_intensity         hue  od280/od315_of_diluted_wines      proline  \\\n",
              "count       178.000000  178.000000                    178.000000   178.000000   \n",
              "mean          5.058090    0.957449                      2.611685   746.893258   \n",
              "std           2.318286    0.228572                      0.709990   314.907474   \n",
              "min           1.280000    0.480000                      1.270000   278.000000   \n",
              "25%           3.220000    0.782500                      1.937500   500.500000   \n",
              "50%           4.690000    0.965000                      2.780000   673.500000   \n",
              "75%           6.200000    1.120000                      3.170000   985.000000   \n",
              "max          13.000000    1.710000                      4.000000  1680.000000   \n",
              "\n",
              "            class  \n",
              "count  178.000000  \n",
              "mean     0.938202  \n",
              "std      0.775035  \n",
              "min      0.000000  \n",
              "25%      0.000000  \n",
              "50%      1.000000  \n",
              "75%      2.000000  \n",
              "max      2.000000  "
            ],
            "text/html": [
              "\n",
              "  <div id=\"df-89cf7fa6-e66e-4ba1-acf3-e00a80d7d300\" class=\"colab-df-container\">\n",
              "    <div>\n",
              "<style scoped>\n",
              "    .dataframe tbody tr th:only-of-type {\n",
              "        vertical-align: middle;\n",
              "    }\n",
              "\n",
              "    .dataframe tbody tr th {\n",
              "        vertical-align: top;\n",
              "    }\n",
              "\n",
              "    .dataframe thead th {\n",
              "        text-align: right;\n",
              "    }\n",
              "</style>\n",
              "<table border=\"1\" class=\"dataframe\">\n",
              "  <thead>\n",
              "    <tr style=\"text-align: right;\">\n",
              "      <th></th>\n",
              "      <th>alcohol</th>\n",
              "      <th>malic_acid</th>\n",
              "      <th>ash</th>\n",
              "      <th>alcalinity_of_ash</th>\n",
              "      <th>magnesium</th>\n",
              "      <th>total_phenols</th>\n",
              "      <th>flavanoids</th>\n",
              "      <th>nonflavanoid_phenols</th>\n",
              "      <th>proanthocyanins</th>\n",
              "      <th>color_intensity</th>\n",
              "      <th>hue</th>\n",
              "      <th>od280/od315_of_diluted_wines</th>\n",
              "      <th>proline</th>\n",
              "      <th>class</th>\n",
              "    </tr>\n",
              "  </thead>\n",
              "  <tbody>\n",
              "    <tr>\n",
              "      <th>count</th>\n",
              "      <td>178.000000</td>\n",
              "      <td>178.000000</td>\n",
              "      <td>178.000000</td>\n",
              "      <td>178.000000</td>\n",
              "      <td>178.000000</td>\n",
              "      <td>178.000000</td>\n",
              "      <td>178.000000</td>\n",
              "      <td>178.000000</td>\n",
              "      <td>178.000000</td>\n",
              "      <td>178.000000</td>\n",
              "      <td>178.000000</td>\n",
              "      <td>178.000000</td>\n",
              "      <td>178.000000</td>\n",
              "      <td>178.000000</td>\n",
              "    </tr>\n",
              "    <tr>\n",
              "      <th>mean</th>\n",
              "      <td>13.000618</td>\n",
              "      <td>2.336348</td>\n",
              "      <td>2.366517</td>\n",
              "      <td>19.494944</td>\n",
              "      <td>99.741573</td>\n",
              "      <td>2.295112</td>\n",
              "      <td>2.029270</td>\n",
              "      <td>0.361854</td>\n",
              "      <td>1.590899</td>\n",
              "      <td>5.058090</td>\n",
              "      <td>0.957449</td>\n",
              "      <td>2.611685</td>\n",
              "      <td>746.893258</td>\n",
              "      <td>0.938202</td>\n",
              "    </tr>\n",
              "    <tr>\n",
              "      <th>std</th>\n",
              "      <td>0.811827</td>\n",
              "      <td>1.117146</td>\n",
              "      <td>0.274344</td>\n",
              "      <td>3.339564</td>\n",
              "      <td>14.282484</td>\n",
              "      <td>0.625851</td>\n",
              "      <td>0.998859</td>\n",
              "      <td>0.124453</td>\n",
              "      <td>0.572359</td>\n",
              "      <td>2.318286</td>\n",
              "      <td>0.228572</td>\n",
              "      <td>0.709990</td>\n",
              "      <td>314.907474</td>\n",
              "      <td>0.775035</td>\n",
              "    </tr>\n",
              "    <tr>\n",
              "      <th>min</th>\n",
              "      <td>11.030000</td>\n",
              "      <td>0.740000</td>\n",
              "      <td>1.360000</td>\n",
              "      <td>10.600000</td>\n",
              "      <td>70.000000</td>\n",
              "      <td>0.980000</td>\n",
              "      <td>0.340000</td>\n",
              "      <td>0.130000</td>\n",
              "      <td>0.410000</td>\n",
              "      <td>1.280000</td>\n",
              "      <td>0.480000</td>\n",
              "      <td>1.270000</td>\n",
              "      <td>278.000000</td>\n",
              "      <td>0.000000</td>\n",
              "    </tr>\n",
              "    <tr>\n",
              "      <th>25%</th>\n",
              "      <td>12.362500</td>\n",
              "      <td>1.602500</td>\n",
              "      <td>2.210000</td>\n",
              "      <td>17.200000</td>\n",
              "      <td>88.000000</td>\n",
              "      <td>1.742500</td>\n",
              "      <td>1.205000</td>\n",
              "      <td>0.270000</td>\n",
              "      <td>1.250000</td>\n",
              "      <td>3.220000</td>\n",
              "      <td>0.782500</td>\n",
              "      <td>1.937500</td>\n",
              "      <td>500.500000</td>\n",
              "      <td>0.000000</td>\n",
              "    </tr>\n",
              "    <tr>\n",
              "      <th>50%</th>\n",
              "      <td>13.050000</td>\n",
              "      <td>1.865000</td>\n",
              "      <td>2.360000</td>\n",
              "      <td>19.500000</td>\n",
              "      <td>98.000000</td>\n",
              "      <td>2.355000</td>\n",
              "      <td>2.135000</td>\n",
              "      <td>0.340000</td>\n",
              "      <td>1.555000</td>\n",
              "      <td>4.690000</td>\n",
              "      <td>0.965000</td>\n",
              "      <td>2.780000</td>\n",
              "      <td>673.500000</td>\n",
              "      <td>1.000000</td>\n",
              "    </tr>\n",
              "    <tr>\n",
              "      <th>75%</th>\n",
              "      <td>13.677500</td>\n",
              "      <td>3.082500</td>\n",
              "      <td>2.557500</td>\n",
              "      <td>21.500000</td>\n",
              "      <td>107.000000</td>\n",
              "      <td>2.800000</td>\n",
              "      <td>2.875000</td>\n",
              "      <td>0.437500</td>\n",
              "      <td>1.950000</td>\n",
              "      <td>6.200000</td>\n",
              "      <td>1.120000</td>\n",
              "      <td>3.170000</td>\n",
              "      <td>985.000000</td>\n",
              "      <td>2.000000</td>\n",
              "    </tr>\n",
              "    <tr>\n",
              "      <th>max</th>\n",
              "      <td>14.830000</td>\n",
              "      <td>5.800000</td>\n",
              "      <td>3.230000</td>\n",
              "      <td>30.000000</td>\n",
              "      <td>162.000000</td>\n",
              "      <td>3.880000</td>\n",
              "      <td>5.080000</td>\n",
              "      <td>0.660000</td>\n",
              "      <td>3.580000</td>\n",
              "      <td>13.000000</td>\n",
              "      <td>1.710000</td>\n",
              "      <td>4.000000</td>\n",
              "      <td>1680.000000</td>\n",
              "      <td>2.000000</td>\n",
              "    </tr>\n",
              "  </tbody>\n",
              "</table>\n",
              "</div>\n",
              "    <div class=\"colab-df-buttons\">\n",
              "\n",
              "  <div class=\"colab-df-container\">\n",
              "    <button class=\"colab-df-convert\" onclick=\"convertToInteractive('df-89cf7fa6-e66e-4ba1-acf3-e00a80d7d300')\"\n",
              "            title=\"Convert this dataframe to an interactive table.\"\n",
              "            style=\"display:none;\">\n",
              "\n",
              "  <svg xmlns=\"http://www.w3.org/2000/svg\" height=\"24px\" viewBox=\"0 -960 960 960\">\n",
              "    <path d=\"M120-120v-720h720v720H120Zm60-500h600v-160H180v160Zm220 220h160v-160H400v160Zm0 220h160v-160H400v160ZM180-400h160v-160H180v160Zm440 0h160v-160H620v160ZM180-180h160v-160H180v160Zm440 0h160v-160H620v160Z\"/>\n",
              "  </svg>\n",
              "    </button>\n",
              "\n",
              "  <style>\n",
              "    .colab-df-container {\n",
              "      display:flex;\n",
              "      gap: 12px;\n",
              "    }\n",
              "\n",
              "    .colab-df-convert {\n",
              "      background-color: #E8F0FE;\n",
              "      border: none;\n",
              "      border-radius: 50%;\n",
              "      cursor: pointer;\n",
              "      display: none;\n",
              "      fill: #1967D2;\n",
              "      height: 32px;\n",
              "      padding: 0 0 0 0;\n",
              "      width: 32px;\n",
              "    }\n",
              "\n",
              "    .colab-df-convert:hover {\n",
              "      background-color: #E2EBFA;\n",
              "      box-shadow: 0px 1px 2px rgba(60, 64, 67, 0.3), 0px 1px 3px 1px rgba(60, 64, 67, 0.15);\n",
              "      fill: #174EA6;\n",
              "    }\n",
              "\n",
              "    .colab-df-buttons div {\n",
              "      margin-bottom: 4px;\n",
              "    }\n",
              "\n",
              "    [theme=dark] .colab-df-convert {\n",
              "      background-color: #3B4455;\n",
              "      fill: #D2E3FC;\n",
              "    }\n",
              "\n",
              "    [theme=dark] .colab-df-convert:hover {\n",
              "      background-color: #434B5C;\n",
              "      box-shadow: 0px 1px 3px 1px rgba(0, 0, 0, 0.15);\n",
              "      filter: drop-shadow(0px 1px 2px rgba(0, 0, 0, 0.3));\n",
              "      fill: #FFFFFF;\n",
              "    }\n",
              "  </style>\n",
              "\n",
              "    <script>\n",
              "      const buttonEl =\n",
              "        document.querySelector('#df-89cf7fa6-e66e-4ba1-acf3-e00a80d7d300 button.colab-df-convert');\n",
              "      buttonEl.style.display =\n",
              "        google.colab.kernel.accessAllowed ? 'block' : 'none';\n",
              "\n",
              "      async function convertToInteractive(key) {\n",
              "        const element = document.querySelector('#df-89cf7fa6-e66e-4ba1-acf3-e00a80d7d300');\n",
              "        const dataTable =\n",
              "          await google.colab.kernel.invokeFunction('convertToInteractive',\n",
              "                                                    [key], {});\n",
              "        if (!dataTable) return;\n",
              "\n",
              "        const docLinkHtml = 'Like what you see? Visit the ' +\n",
              "          '<a target=\"_blank\" href=https://colab.research.google.com/notebooks/data_table.ipynb>data table notebook</a>'\n",
              "          + ' to learn more about interactive tables.';\n",
              "        element.innerHTML = '';\n",
              "        dataTable['output_type'] = 'display_data';\n",
              "        await google.colab.output.renderOutput(dataTable, element);\n",
              "        const docLink = document.createElement('div');\n",
              "        docLink.innerHTML = docLinkHtml;\n",
              "        element.appendChild(docLink);\n",
              "      }\n",
              "    </script>\n",
              "  </div>\n",
              "\n",
              "\n",
              "<div id=\"df-56cfb037-babb-4a08-b464-e8dcc1340c5d\">\n",
              "  <button class=\"colab-df-quickchart\" onclick=\"quickchart('df-56cfb037-babb-4a08-b464-e8dcc1340c5d')\"\n",
              "            title=\"Suggest charts.\"\n",
              "            style=\"display:none;\">\n",
              "\n",
              "<svg xmlns=\"http://www.w3.org/2000/svg\" height=\"24px\"viewBox=\"0 0 24 24\"\n",
              "     width=\"24px\">\n",
              "    <g>\n",
              "        <path d=\"M19 3H5c-1.1 0-2 .9-2 2v14c0 1.1.9 2 2 2h14c1.1 0 2-.9 2-2V5c0-1.1-.9-2-2-2zM9 17H7v-7h2v7zm4 0h-2V7h2v10zm4 0h-2v-4h2v4z\"/>\n",
              "    </g>\n",
              "</svg>\n",
              "  </button>\n",
              "\n",
              "<style>\n",
              "  .colab-df-quickchart {\n",
              "      --bg-color: #E8F0FE;\n",
              "      --fill-color: #1967D2;\n",
              "      --hover-bg-color: #E2EBFA;\n",
              "      --hover-fill-color: #174EA6;\n",
              "      --disabled-fill-color: #AAA;\n",
              "      --disabled-bg-color: #DDD;\n",
              "  }\n",
              "\n",
              "  [theme=dark] .colab-df-quickchart {\n",
              "      --bg-color: #3B4455;\n",
              "      --fill-color: #D2E3FC;\n",
              "      --hover-bg-color: #434B5C;\n",
              "      --hover-fill-color: #FFFFFF;\n",
              "      --disabled-bg-color: #3B4455;\n",
              "      --disabled-fill-color: #666;\n",
              "  }\n",
              "\n",
              "  .colab-df-quickchart {\n",
              "    background-color: var(--bg-color);\n",
              "    border: none;\n",
              "    border-radius: 50%;\n",
              "    cursor: pointer;\n",
              "    display: none;\n",
              "    fill: var(--fill-color);\n",
              "    height: 32px;\n",
              "    padding: 0;\n",
              "    width: 32px;\n",
              "  }\n",
              "\n",
              "  .colab-df-quickchart:hover {\n",
              "    background-color: var(--hover-bg-color);\n",
              "    box-shadow: 0 1px 2px rgba(60, 64, 67, 0.3), 0 1px 3px 1px rgba(60, 64, 67, 0.15);\n",
              "    fill: var(--button-hover-fill-color);\n",
              "  }\n",
              "\n",
              "  .colab-df-quickchart-complete:disabled,\n",
              "  .colab-df-quickchart-complete:disabled:hover {\n",
              "    background-color: var(--disabled-bg-color);\n",
              "    fill: var(--disabled-fill-color);\n",
              "    box-shadow: none;\n",
              "  }\n",
              "\n",
              "  .colab-df-spinner {\n",
              "    border: 2px solid var(--fill-color);\n",
              "    border-color: transparent;\n",
              "    border-bottom-color: var(--fill-color);\n",
              "    animation:\n",
              "      spin 1s steps(1) infinite;\n",
              "  }\n",
              "\n",
              "  @keyframes spin {\n",
              "    0% {\n",
              "      border-color: transparent;\n",
              "      border-bottom-color: var(--fill-color);\n",
              "      border-left-color: var(--fill-color);\n",
              "    }\n",
              "    20% {\n",
              "      border-color: transparent;\n",
              "      border-left-color: var(--fill-color);\n",
              "      border-top-color: var(--fill-color);\n",
              "    }\n",
              "    30% {\n",
              "      border-color: transparent;\n",
              "      border-left-color: var(--fill-color);\n",
              "      border-top-color: var(--fill-color);\n",
              "      border-right-color: var(--fill-color);\n",
              "    }\n",
              "    40% {\n",
              "      border-color: transparent;\n",
              "      border-right-color: var(--fill-color);\n",
              "      border-top-color: var(--fill-color);\n",
              "    }\n",
              "    60% {\n",
              "      border-color: transparent;\n",
              "      border-right-color: var(--fill-color);\n",
              "    }\n",
              "    80% {\n",
              "      border-color: transparent;\n",
              "      border-right-color: var(--fill-color);\n",
              "      border-bottom-color: var(--fill-color);\n",
              "    }\n",
              "    90% {\n",
              "      border-color: transparent;\n",
              "      border-bottom-color: var(--fill-color);\n",
              "    }\n",
              "  }\n",
              "</style>\n",
              "\n",
              "  <script>\n",
              "    async function quickchart(key) {\n",
              "      const quickchartButtonEl =\n",
              "        document.querySelector('#' + key + ' button');\n",
              "      quickchartButtonEl.disabled = true;  // To prevent multiple clicks.\n",
              "      quickchartButtonEl.classList.add('colab-df-spinner');\n",
              "      try {\n",
              "        const charts = await google.colab.kernel.invokeFunction(\n",
              "            'suggestCharts', [key], {});\n",
              "      } catch (error) {\n",
              "        console.error('Error during call to suggestCharts:', error);\n",
              "      }\n",
              "      quickchartButtonEl.classList.remove('colab-df-spinner');\n",
              "      quickchartButtonEl.classList.add('colab-df-quickchart-complete');\n",
              "    }\n",
              "    (() => {\n",
              "      let quickchartButtonEl =\n",
              "        document.querySelector('#df-56cfb037-babb-4a08-b464-e8dcc1340c5d button');\n",
              "      quickchartButtonEl.style.display =\n",
              "        google.colab.kernel.accessAllowed ? 'block' : 'none';\n",
              "    })();\n",
              "  </script>\n",
              "</div>\n",
              "    </div>\n",
              "  </div>\n"
            ]
          },
          "metadata": {},
          "execution_count": 63
        }
      ],
      "source": [
        "df.describe()"
      ]
    },
    {
      "cell_type": "markdown",
      "id": "f29a8003-7752-42f7-90be-11e7eefd088d",
      "metadata": {
        "id": "f29a8003-7752-42f7-90be-11e7eefd088d"
      },
      "source": [
        "(Note the max, min and std values for each column)"
      ]
    },
    {
      "cell_type": "markdown",
      "id": "dc8419b5-980b-4ce6-9a13-0a2a86a61f85",
      "metadata": {
        "id": "dc8419b5-980b-4ce6-9a13-0a2a86a61f85"
      },
      "source": [
        "+## Lab Activity One: Simple K-NN Model"
      ]
    },
    {
      "cell_type": "code",
      "source": [
        "import numpy as np\n",
        "\n",
        "# Generate a random integer between 5 (inclusive) and 15 (exclusive)\n",
        "random_state_range = np.random.randint(1, 100)\n",
        "print(\"Random State: \" , random_state_range)\n",
        "\n",
        "random_test_size = np.random.randint(20, 100)\n",
        "print(\"Random Test Size: \" , random_test_size)\n",
        "\n"
      ],
      "metadata": {
        "colab": {
          "base_uri": "https://localhost:8080/"
        },
        "id": "Asj8UEGsIm3L",
        "outputId": "f1477acc-be75-406a-edd4-f21c2d56dc29"
      },
      "id": "Asj8UEGsIm3L",
      "execution_count": null,
      "outputs": [
        {
          "output_type": "stream",
          "name": "stdout",
          "text": [
            "Random State:  41\n",
            "Random Test Size:  98\n"
          ]
        }
      ]
    },
    {
      "cell_type": "markdown",
      "id": "G10EC1VhZ_4N",
      "metadata": {
        "id": "G10EC1VhZ_4N"
      },
      "source": [
        "> [AX] indicates an activity to be answered."
      ]
    },
    {
      "cell_type": "markdown",
      "id": "d05a0da6-601c-4810-b029-30c59b113780",
      "metadata": {
        "id": "d05a0da6-601c-4810-b029-30c59b113780"
      },
      "source": [
        "##### [A1] Split your data into training and testing. Use ``X_train``, ``y_train``,``X_test`` and ``y_test`` as the assigned variables respectively."
      ]
    },
    {
      "cell_type": "code",
      "execution_count": null,
      "id": "0ac599f6-a7ca-4f84-b86f-3291fbf1ac72",
      "metadata": {
        "id": "0ac599f6-a7ca-4f84-b86f-3291fbf1ac72"
      },
      "outputs": [],
      "source": [
        "# %% lets split the training data into training and validation data\n",
        "X_train, X_test, y_train, y_test = train_test_split(df,df['class'], test_size=random_test_size, random_state=random_state_range)"
      ]
    },
    {
      "cell_type": "markdown",
      "id": "075d1861-902a-452e-8dbd-f4ddcfaa2f5b",
      "metadata": {
        "id": "075d1861-902a-452e-8dbd-f4ddcfaa2f5b"
      },
      "source": [
        "##### [A2] Instantiate model using the default settings"
      ]
    },
    {
      "cell_type": "code",
      "execution_count": null,
      "id": "a936b51e-9181-4cd3-ad2e-4457fcdf5253",
      "metadata": {
        "id": "a936b51e-9181-4cd3-ad2e-4457fcdf5253"
      },
      "outputs": [],
      "source": [
        "knn = KNeighborsClassifier() #creates a KNN classifier object named knn"
      ]
    },
    {
      "cell_type": "markdown",
      "id": "cba90d34-68b8-44ec-a7c0-5fa68caa3e6e",
      "metadata": {
        "id": "cba90d34-68b8-44ec-a7c0-5fa68caa3e6e"
      },
      "source": [
        "##### [A3] Fit the model"
      ]
    },
    {
      "cell_type": "code",
      "execution_count": null,
      "id": "3365e1e3-2b3e-4703-95fc-3d3ccc349e4d",
      "metadata": {
        "id": "3365e1e3-2b3e-4703-95fc-3d3ccc349e4d",
        "colab": {
          "base_uri": "https://localhost:8080/",
          "height": 75
        },
        "outputId": "4b57d747-d5a5-40b8-baa5-2e24fce573ae"
      },
      "outputs": [
        {
          "output_type": "execute_result",
          "data": {
            "text/plain": [
              "KNeighborsClassifier()"
            ],
            "text/html": [
              "<style>#sk-container-id-3 {color: black;background-color: white;}#sk-container-id-3 pre{padding: 0;}#sk-container-id-3 div.sk-toggleable {background-color: white;}#sk-container-id-3 label.sk-toggleable__label {cursor: pointer;display: block;width: 100%;margin-bottom: 0;padding: 0.3em;box-sizing: border-box;text-align: center;}#sk-container-id-3 label.sk-toggleable__label-arrow:before {content: \"▸\";float: left;margin-right: 0.25em;color: #696969;}#sk-container-id-3 label.sk-toggleable__label-arrow:hover:before {color: black;}#sk-container-id-3 div.sk-estimator:hover label.sk-toggleable__label-arrow:before {color: black;}#sk-container-id-3 div.sk-toggleable__content {max-height: 0;max-width: 0;overflow: hidden;text-align: left;background-color: #f0f8ff;}#sk-container-id-3 div.sk-toggleable__content pre {margin: 0.2em;color: black;border-radius: 0.25em;background-color: #f0f8ff;}#sk-container-id-3 input.sk-toggleable__control:checked~div.sk-toggleable__content {max-height: 200px;max-width: 100%;overflow: auto;}#sk-container-id-3 input.sk-toggleable__control:checked~label.sk-toggleable__label-arrow:before {content: \"▾\";}#sk-container-id-3 div.sk-estimator input.sk-toggleable__control:checked~label.sk-toggleable__label {background-color: #d4ebff;}#sk-container-id-3 div.sk-label input.sk-toggleable__control:checked~label.sk-toggleable__label {background-color: #d4ebff;}#sk-container-id-3 input.sk-hidden--visually {border: 0;clip: rect(1px 1px 1px 1px);clip: rect(1px, 1px, 1px, 1px);height: 1px;margin: -1px;overflow: hidden;padding: 0;position: absolute;width: 1px;}#sk-container-id-3 div.sk-estimator {font-family: monospace;background-color: #f0f8ff;border: 1px dotted black;border-radius: 0.25em;box-sizing: border-box;margin-bottom: 0.5em;}#sk-container-id-3 div.sk-estimator:hover {background-color: #d4ebff;}#sk-container-id-3 div.sk-parallel-item::after {content: \"\";width: 100%;border-bottom: 1px solid gray;flex-grow: 1;}#sk-container-id-3 div.sk-label:hover label.sk-toggleable__label {background-color: #d4ebff;}#sk-container-id-3 div.sk-serial::before {content: \"\";position: absolute;border-left: 1px solid gray;box-sizing: border-box;top: 0;bottom: 0;left: 50%;z-index: 0;}#sk-container-id-3 div.sk-serial {display: flex;flex-direction: column;align-items: center;background-color: white;padding-right: 0.2em;padding-left: 0.2em;position: relative;}#sk-container-id-3 div.sk-item {position: relative;z-index: 1;}#sk-container-id-3 div.sk-parallel {display: flex;align-items: stretch;justify-content: center;background-color: white;position: relative;}#sk-container-id-3 div.sk-item::before, #sk-container-id-3 div.sk-parallel-item::before {content: \"\";position: absolute;border-left: 1px solid gray;box-sizing: border-box;top: 0;bottom: 0;left: 50%;z-index: -1;}#sk-container-id-3 div.sk-parallel-item {display: flex;flex-direction: column;z-index: 1;position: relative;background-color: white;}#sk-container-id-3 div.sk-parallel-item:first-child::after {align-self: flex-end;width: 50%;}#sk-container-id-3 div.sk-parallel-item:last-child::after {align-self: flex-start;width: 50%;}#sk-container-id-3 div.sk-parallel-item:only-child::after {width: 0;}#sk-container-id-3 div.sk-dashed-wrapped {border: 1px dashed gray;margin: 0 0.4em 0.5em 0.4em;box-sizing: border-box;padding-bottom: 0.4em;background-color: white;}#sk-container-id-3 div.sk-label label {font-family: monospace;font-weight: bold;display: inline-block;line-height: 1.2em;}#sk-container-id-3 div.sk-label-container {text-align: center;}#sk-container-id-3 div.sk-container {/* jupyter's `normalize.less` sets `[hidden] { display: none; }` but bootstrap.min.css set `[hidden] { display: none !important; }` so we also need the `!important` here to be able to override the default hidden behavior on the sphinx rendered scikit-learn.org. See: https://github.com/scikit-learn/scikit-learn/issues/21755 */display: inline-block !important;position: relative;}#sk-container-id-3 div.sk-text-repr-fallback {display: none;}</style><div id=\"sk-container-id-3\" class=\"sk-top-container\"><div class=\"sk-text-repr-fallback\"><pre>KNeighborsClassifier()</pre><b>In a Jupyter environment, please rerun this cell to show the HTML representation or trust the notebook. <br />On GitHub, the HTML representation is unable to render, please try loading this page with nbviewer.org.</b></div><div class=\"sk-container\" hidden><div class=\"sk-item\"><div class=\"sk-estimator sk-toggleable\"><input class=\"sk-toggleable__control sk-hidden--visually\" id=\"sk-estimator-id-3\" type=\"checkbox\" checked><label for=\"sk-estimator-id-3\" class=\"sk-toggleable__label sk-toggleable__label-arrow\">KNeighborsClassifier</label><div class=\"sk-toggleable__content\"><pre>KNeighborsClassifier()</pre></div></div></div></div></div>"
            ]
          },
          "metadata": {},
          "execution_count": 67
        }
      ],
      "source": [
        "knn.fit(X_train,y_train) # used to train (fit) the K-Nearest Neighbors (KNN) classifier model on your training data."
      ]
    },
    {
      "cell_type": "markdown",
      "id": "46143731-2a77-4cb8-a152-062e90e329da",
      "metadata": {
        "id": "46143731-2a77-4cb8-a152-062e90e329da"
      },
      "source": [
        "##### [A4] Predict on your test data"
      ]
    },
    {
      "cell_type": "code",
      "execution_count": null,
      "id": "bc24588d-bef6-48de-89b1-46112f94b0ac",
      "metadata": {
        "id": "bc24588d-bef6-48de-89b1-46112f94b0ac"
      },
      "outputs": [],
      "source": [
        "y_pred = knn.predict(X_test) #used to make predictions using the K-Nearest Neighbors (KNN) classifier model that you previously trained and fit on your training data."
      ]
    },
    {
      "cell_type": "markdown",
      "id": "3ae6abf5-82a7-4572-ba3e-48bef0120524",
      "metadata": {
        "id": "3ae6abf5-82a7-4572-ba3e-48bef0120524"
      },
      "source": [
        "##### [A5] Evaluate model performance using the ``accuracy_score()`` function"
      ]
    },
    {
      "cell_type": "code",
      "execution_count": null,
      "id": "beb748ad-337d-4fe8-a9e5-0b44d7a4be0e",
      "metadata": {
        "id": "beb748ad-337d-4fe8-a9e5-0b44d7a4be0e",
        "colab": {
          "base_uri": "https://localhost:8080/"
        },
        "outputId": "d71a2de7-16fe-4b5b-b112-65d37edff66c"
      },
      "outputs": [
        {
          "output_type": "stream",
          "name": "stdout",
          "text": [
            "Accuracy: 0.7653061224489796\n"
          ]
        }
      ],
      "source": [
        "accuracy = accuracy_score(y_test, y_pred) # function call to scikit-learn's and calculate the accuracy of a classification model's predictions.\n",
        "print(\"Accuracy:\", accuracy)"
      ]
    },
    {
      "cell_type": "markdown",
      "id": "293c8c12-a9e4-4db7-9bac-3f594a449dd2",
      "metadata": {
        "id": "293c8c12-a9e4-4db7-9bac-3f594a449dd2"
      },
      "source": [
        "##### [A6] Evaluate model performance using the ``classisification_report()`` function"
      ]
    },
    {
      "cell_type": "code",
      "execution_count": null,
      "id": "2a54a2fa-b0f5-4b13-bb80-233157b2c7f1",
      "metadata": {
        "id": "2a54a2fa-b0f5-4b13-bb80-233157b2c7f1",
        "colab": {
          "base_uri": "https://localhost:8080/"
        },
        "outputId": "db4094f1-92fe-42d5-f08d-8b7be0a6689d"
      },
      "outputs": [
        {
          "output_type": "stream",
          "name": "stdout",
          "text": [
            "              precision    recall  f1-score   support\n",
            "\n",
            "           0       0.86      0.97      0.91        33\n",
            "           1       0.78      0.68      0.72        37\n",
            "           2       0.62      0.64      0.63        28\n",
            "\n",
            "    accuracy                           0.77        98\n",
            "   macro avg       0.76      0.76      0.76        98\n",
            "weighted avg       0.76      0.77      0.76        98\n",
            "\n"
          ]
        }
      ],
      "source": [
        "report = classification_report(y_test, y_pred) #report is variable and clasification_report is a function with 2 arguments which is y_test is used for actual label and y_predict is to predict the label on dataset\n",
        "print(report) #printing and showing the report"
      ]
    },
    {
      "cell_type": "markdown",
      "id": "c14b1863-4449-4ab9-b2eb-87b115c6b8af",
      "metadata": {
        "id": "c14b1863-4449-4ab9-b2eb-87b115c6b8af"
      },
      "source": [
        "Granted you successfully fit and predicted a knn classifier on the wine dataset, you will notice the performance of the model is not great. Going back to the statistics of our dataset (the ``df.describe()`` function above)\n",
        " - observe the standard deviation of the ``proline`` column. The range of the proline values are siginificantly different that the rest of the dataset (high std).\n",
        " - observe the min and max of the ``nonflavanoid_phenols`` column. These values are all between 0 and 1 (percentage) while rest of the data is not.\n",
        "\n",
        "These non-standarized values affect our model fitting and predictions. Recall that the KNN algorithm uses distance measures to classify similar elements, since some of the feature's values are on a different scale we must **normalize** this dataset."
      ]
    },
    {
      "cell_type": "markdown",
      "id": "08c21843-8ca7-40a4-a21e-1d7087dd36c2",
      "metadata": {
        "id": "08c21843-8ca7-40a4-a21e-1d7087dd36c2"
      },
      "source": [
        "##### Normalizing your dataset using the ``StandardScaler()`` function and fitting it to your data (normalizing both the ``X_train`` and ``X_test`` values)."
      ]
    },
    {
      "cell_type": "code",
      "execution_count": null,
      "id": "92f72700-734b-40ef-8708-4a079ca96a4a",
      "metadata": {
        "id": "92f72700-734b-40ef-8708-4a079ca96a4a"
      },
      "outputs": [],
      "source": [
        "#Transform data\n",
        "scaler = StandardScaler()\n",
        "\n",
        "scaler.fit(X_train)\n",
        "X_train = scaler.transform(X_train)\n",
        "X_test = scaler.transform(X_test)"
      ]
    },
    {
      "cell_type": "markdown",
      "id": "22e9594f-3d8d-45f3-aa01-2470a3bbf84c",
      "metadata": {
        "id": "22e9594f-3d8d-45f3-aa01-2470a3bbf84c"
      },
      "source": [
        "##### [A7] Instantiate a new KNN model (``model_2``), fit, predict and evaluate your accuracy again."
      ]
    },
    {
      "cell_type": "code",
      "execution_count": null,
      "id": "2e732b7c-28e3-49f2-9e9b-bc358c3d57ef",
      "metadata": {
        "id": "2e732b7c-28e3-49f2-9e9b-bc358c3d57ef",
        "colab": {
          "base_uri": "https://localhost:8080/"
        },
        "outputId": "fc5a3fda-bb18-4b6d-da40-2de704d8561e"
      },
      "outputs": [
        {
          "output_type": "stream",
          "name": "stdout",
          "text": [
            "Accuracy of model_2: 0.9795918367346939\n"
          ]
        }
      ],
      "source": [
        "# Instantiate the KNN model\n",
        "model_2 = KNeighborsClassifier(n_neighbors=3)\n",
        "\n",
        "# Fit the model to the training data\n",
        "model_2.fit(X_train, y_train)\n",
        "\n",
        "# Make predictions on the test data\n",
        "y_pred = model_2.predict(X_test)\n",
        "\n",
        "# Evaluate accuracy\n",
        "accuracy = accuracy_score(y_test, y_pred)\n",
        "\n",
        "# Print the accuracy score\n",
        "print(\"Accuracy of model_2:\", accuracy)"
      ]
    },
    {
      "cell_type": "markdown",
      "id": "b9d48431-e934-43ee-a9cb-472eb6373dfc",
      "metadata": {
        "id": "b9d48431-e934-43ee-a9cb-472eb6373dfc"
      },
      "source": [
        "### Lab Activity Two: Changing the K values"
      ]
    },
    {
      "cell_type": "markdown",
      "id": "9c4538e2-9db2-4782-9727-eb574768e6af",
      "metadata": {
        "id": "9c4538e2-9db2-4782-9727-eb574768e6af"
      },
      "source": [
        "Initially we did not assign any parameters when instantiating the KNN classifer (``model = KNeighborsClassifier()``). The most important parameter to set is the ``K`` value. Recall the ``K`` in the KNN algorithm represents the number of nearest neighbours. So if the value of ``K`` is 3, it means that the 3 nearest neighbours are considered for computation."
      ]
    },
    {
      "cell_type": "code",
      "execution_count": null,
      "id": "37c2b55a-6cef-4d30-bbd0-4216b2b423af",
      "metadata": {
        "id": "37c2b55a-6cef-4d30-bbd0-4216b2b423af"
      },
      "outputs": [],
      "source": [
        "k_list = [1,2,3,4,6,8,12,15,20,25]\n",
        "accuracy_scores_list = []"
      ]
    },
    {
      "cell_type": "markdown",
      "id": "d4a03ff8-7a06-4170-a4f2-96588ee31f8d",
      "metadata": {
        "id": "d4a03ff8-7a06-4170-a4f2-96588ee31f8d"
      },
      "source": [
        "##### [A8] Using a for loop, iterate through the ``k_list`` above and instantiate (using a different ``K`` everytime), fit, predict and evaluate the models. Store the accuracy results in the ``accuracy_scores_list``."
      ]
    },
    {
      "cell_type": "code",
      "execution_count": null,
      "id": "e60c3423-8cce-4e5e-96ea-bebd98516345",
      "metadata": {
        "id": "e60c3423-8cce-4e5e-96ea-bebd98516345",
        "colab": {
          "base_uri": "https://localhost:8080/"
        },
        "outputId": "940c997d-61a9-481b-9557-2bfc5e89b471"
      },
      "outputs": [
        {
          "output_type": "stream",
          "name": "stdout",
          "text": [
            "K = 1: Accuracy = 0.9387755102040817\n",
            "K = 2: Accuracy = 0.9693877551020408\n",
            "K = 3: Accuracy = 0.9795918367346939\n",
            "K = 4: Accuracy = 0.9693877551020408\n",
            "K = 6: Accuracy = 0.9795918367346939\n",
            "K = 8: Accuracy = 1.0\n",
            "K = 12: Accuracy = 0.9897959183673469\n",
            "K = 15: Accuracy = 0.9897959183673469\n",
            "K = 20: Accuracy = 0.9897959183673469\n",
            "K = 25: Accuracy = 0.9795918367346939\n"
          ]
        }
      ],
      "source": [
        "# Iterate through the k_list\n",
        "for k in k_list:\n",
        "    # Instantiate the KNN model with the current K value\n",
        "    model = KNeighborsClassifier(k)\n",
        "\n",
        "    # Fit the model to the training data\n",
        "    model.fit(X_train, y_train)\n",
        "\n",
        "    # Make predictions on the test data\n",
        "    y_pred = model.predict(X_test)\n",
        "\n",
        "    # Evaluate accuracy and append it to the accuracy_scores_list\n",
        "    accuracy = accuracy_score(y_test, y_pred)\n",
        "    accuracy_scores_list.append(accuracy)\n",
        "\n",
        "    print(f\"K = {k}: Accuracy = {accuracy}\")\n"
      ]
    },
    {
      "cell_type": "markdown",
      "id": "99d87d99-2571-422b-9e64-0a2d0064f137",
      "metadata": {
        "id": "99d87d99-2571-422b-9e64-0a2d0064f137"
      },
      "source": [
        "##### [A9] Plot a graph of the ``K`` values vs its respective accuracy score."
      ]
    },
    {
      "cell_type": "code",
      "execution_count": null,
      "id": "9d160898-98ff-4bb7-afd0-258bf98e685e",
      "metadata": {
        "id": "9d160898-98ff-4bb7-afd0-258bf98e685e",
        "colab": {
          "base_uri": "https://localhost:8080/",
          "height": 606
        },
        "outputId": "482c3ecc-994e-46c2-a822-b1a4fab40feb"
      },
      "outputs": [
        {
          "output_type": "display_data",
          "data": {
            "text/plain": [
              "<Figure size 1000x600 with 1 Axes>"
            ],
            "image/png": "[encoded data removed]"
          },
          "metadata": {}
        }
      ],
      "source": [
        "import matplotlib.pyplot as plt #import libraries\n",
        "\n",
        "# Plot K values vs. Accuracy scores\n",
        "plt.figure(figsize=(10, 6)) #creating exact value of the size of lenght and width\n",
        "plt.plot(k_list, accuracy_scores_list, marker='o', linestyle='-', color='b') #plotting the k values using number of nieghbors and  accuracy score list\n",
        "plt.title('K Values vs. Respective Accuracy Score\\n\\n') # titles of the graph\n",
        "plt.xlabel('K (Number of Neighbors)') #x label name\n",
        "plt.ylabel('Accuracy Score') #y label name\n",
        "plt.grid(True) #grid line\n",
        "\n",
        "# Display the plot\n",
        "plt.show() #showing the graph"
      ]
    },
    {
      "cell_type": "markdown",
      "id": "35adb8f0-dc29-4de6-96cd-019093458e8a",
      "metadata": {
        "id": "35adb8f0-dc29-4de6-96cd-019093458e8a"
      },
      "source": [
        "#### Discussion"
      ]
    },
    {
      "cell_type": "markdown",
      "id": "c16a9a92-fd36-402d-8faf-69a9fbc402ce",
      "metadata": {
        "id": "c16a9a92-fd36-402d-8faf-69a9fbc402ce"
      },
      "source": [
        "##### [A10] Are any of the K-values causing overfitting? What ``K`` value did you find the most optimal?"
      ]
    },
    {
      "cell_type": "code",
      "execution_count": null,
      "id": "dcf50adf-0f68-412c-ae4d-3b1f94e5bbc0",
      "metadata": {
        "id": "dcf50adf-0f68-412c-ae4d-3b1f94e5bbc0",
        "colab": {
          "base_uri": "https://localhost:8080/",
          "height": 89
        },
        "outputId": "53aefba7-b0b9-47c1-9b45-1ead559c8457"
      },
      "outputs": [
        {
          "output_type": "execute_result",
          "data": {
            "text/plain": [
              "\"To assess whether any of the K-values are causing overfitting and to determine the most optimal K value, \\nwe can analyze the accuracy scores obtained for each K value. The K value that strikes the best balance between bias and variance\\nand results in the highest test accuracy is often considered the most optimal.\\nIt's important to remember that the choice of K can be data-dependent, so it's a good practice to validate your findings using \\ntechniques like cross-validation. After identifying the optimal K value, you can use it to train your final KNN model for\\n making predictions on new, unseen data.\""
            ],
            "application/vnd.google.colaboratory.intrinsic+json": {
              "type": "string"
            }
          },
          "metadata": {},
          "execution_count": 57
        }
      ],
      "source": [
        "'''To assess whether any of the K-values are causing overfitting and to determine the most optimal K value,\n",
        "we can analyze the accuracy scores obtained for each K value. The K value that strikes the best balance between bias and variance\n",
        "and results in the highest test accuracy is often considered the most optimal.\n",
        "It's important to remember that the choice of K can be data-dependent, so it's a good practice to validate your findings using\n",
        "techniques like cross-validation. After identifying the optimal K value, you can use it to train your final KNN model for\n",
        " making predictions on new, unseen data.'''"
      ]
    }
  ],
  "metadata": {
    "colab": {
      "provenance": [],
      "gpuType": "T4"
    },
    "kernelspec": {
      "display_name": "Python 3",
      "name": "python3"
    },
    "language_info": {
      "codemirror_mode": {
        "name": "ipython",
        "version": 3
      },
      "file_extension": ".py",
      "mimetype": "text/x-python",
      "name": "python",
      "nbconvert_exporter": "python",
      "pygments_lexer": "ipython3",
      "version": "3.9.7"
    },
    "accelerator": "GPU"
  },
  "nbformat": 4,
  "nbformat_minor": 5
}